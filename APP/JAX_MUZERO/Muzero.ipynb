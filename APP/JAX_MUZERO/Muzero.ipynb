{
  "nbformat": 4,
  "nbformat_minor": 0,
  "metadata": {
    "colab": {
      "provenance": [],
      "toc_visible": true
    },
    "kernelspec": {
      "name": "python3",
      "display_name": "Python 3"
    },
    "language_info": {
      "name": "python"
    }
  },
  "cells": [
    {
      "cell_type": "markdown",
      "source": [
        "# Setup"
      ],
      "metadata": {
        "id": "VOb8oSSWd5Mu"
      }
    },
    {
      "cell_type": "code",
      "source": [
        "!pip install git+https://github.com/deepmind/dm-haiku \n",
        "!pip install git+https://github.com/deepmind/optax.git\n",
        "!pip install git+https://github.com/deepmind/rlax.git"
      ],
      "metadata": {
        "colab": {
          "base_uri": "https://localhost:8080/"
        },
        "id": "ufXCNBQPd8K-",
        "outputId": "46199a3f-5ab1-4a35-e3c8-07ab878f4daa"
      },
      "execution_count": null,
      "outputs": [
        {
          "output_type": "stream",
          "name": "stdout",
          "text": [
            "Looking in indexes: https://pypi.org/simple, https://us-python.pkg.dev/colab-wheels/public/simple/\n",
            "Collecting git+https://github.com/deepmind/dm-haiku\n",
            "  Cloning https://github.com/deepmind/dm-haiku to /tmp/pip-req-build-3ih41oh4\n",
            "  Running command git clone -q https://github.com/deepmind/dm-haiku /tmp/pip-req-build-3ih41oh4\n",
            "Requirement already satisfied: absl-py>=0.7.1 in /usr/local/lib/python3.7/dist-packages (from dm-haiku==0.0.8.dev0) (1.2.0)\n",
            "Collecting jmp>=0.0.2\n",
            "  Downloading jmp-0.0.2-py3-none-any.whl (16 kB)\n",
            "Requirement already satisfied: numpy>=1.18.0 in /usr/local/lib/python3.7/dist-packages (from dm-haiku==0.0.8.dev0) (1.21.6)\n",
            "Requirement already satisfied: tabulate>=0.8.9 in /usr/local/lib/python3.7/dist-packages (from dm-haiku==0.0.8.dev0) (0.8.10)\n",
            "Requirement already satisfied: typing_extensions in /usr/local/lib/python3.7/dist-packages (from dm-haiku==0.0.8.dev0) (4.1.1)\n",
            "Building wheels for collected packages: dm-haiku\n",
            "  Building wheel for dm-haiku (setup.py) ... \u001b[?25l\u001b[?25hdone\n",
            "  Created wheel for dm-haiku: filename=dm_haiku-0.0.8.dev0-py3-none-any.whl size=608455 sha256=42ca7fe98fae217971d7e68fcdcb3253d1afdf0aa146989471fe479555f59f41\n",
            "  Stored in directory: /tmp/pip-ephem-wheel-cache-uj4gpcsz/wheels/06/28/69/ebaac5b2435641427299f29d88d005fb4e2627f4a108f0bdbc\n",
            "Successfully built dm-haiku\n",
            "Installing collected packages: jmp, dm-haiku\n",
            "Successfully installed dm-haiku-0.0.8.dev0 jmp-0.0.2\n",
            "Looking in indexes: https://pypi.org/simple, https://us-python.pkg.dev/colab-wheels/public/simple/\n",
            "Collecting git+https://github.com/deepmind/optax.git\n",
            "  Cloning https://github.com/deepmind/optax.git to /tmp/pip-req-build-dsk5p0i5\n",
            "  Running command git clone -q https://github.com/deepmind/optax.git /tmp/pip-req-build-dsk5p0i5\n",
            "Requirement already satisfied: absl-py>=0.7.1 in /usr/local/lib/python3.7/dist-packages (from optax==0.1.3) (1.2.0)\n",
            "Collecting chex>=0.0.4\n",
            "  Downloading chex-0.1.4-py3-none-any.whl (76 kB)\n",
            "\u001b[K     |████████████████████████████████| 76 kB 3.4 MB/s \n",
            "\u001b[?25hRequirement already satisfied: jax>=0.1.55 in /usr/local/lib/python3.7/dist-packages (from optax==0.1.3) (0.3.14)\n",
            "Requirement already satisfied: jaxlib>=0.1.37 in /usr/local/lib/python3.7/dist-packages (from optax==0.1.3) (0.3.14+cuda11.cudnn805)\n",
            "Requirement already satisfied: numpy>=1.18.0 in /usr/local/lib/python3.7/dist-packages (from optax==0.1.3) (1.21.6)\n",
            "Requirement already satisfied: typing_extensions>=3.10.0 in /usr/local/lib/python3.7/dist-packages (from optax==0.1.3) (4.1.1)\n",
            "Requirement already satisfied: toolz>=0.9.0 in /usr/local/lib/python3.7/dist-packages (from chex>=0.0.4->optax==0.1.3) (0.12.0)\n",
            "Requirement already satisfied: dm-tree>=0.1.5 in /usr/local/lib/python3.7/dist-packages (from chex>=0.0.4->optax==0.1.3) (0.1.7)\n",
            "Requirement already satisfied: opt-einsum in /usr/local/lib/python3.7/dist-packages (from jax>=0.1.55->optax==0.1.3) (3.3.0)\n",
            "Requirement already satisfied: scipy>=1.5 in /usr/local/lib/python3.7/dist-packages (from jax>=0.1.55->optax==0.1.3) (1.7.3)\n",
            "Requirement already satisfied: etils[epath] in /usr/local/lib/python3.7/dist-packages (from jax>=0.1.55->optax==0.1.3) (0.7.1)\n",
            "Requirement already satisfied: flatbuffers<3.0,>=1.12 in /usr/local/lib/python3.7/dist-packages (from jaxlib>=0.1.37->optax==0.1.3) (2.0.7)\n",
            "Requirement already satisfied: zipp in /usr/local/lib/python3.7/dist-packages (from etils[epath]->jax>=0.1.55->optax==0.1.3) (3.8.1)\n",
            "Requirement already satisfied: importlib_resources in /usr/local/lib/python3.7/dist-packages (from etils[epath]->jax>=0.1.55->optax==0.1.3) (5.9.0)\n",
            "Building wheels for collected packages: optax\n",
            "  Building wheel for optax (setup.py) ... \u001b[?25l\u001b[?25hdone\n",
            "  Created wheel for optax: filename=optax-0.1.3-py3-none-any.whl size=148959 sha256=b7d749a485f4d8570bdd7ff5ab9776040650321f3946430b8135e5a4c2d47338\n",
            "  Stored in directory: /tmp/pip-ephem-wheel-cache-_gj7f_ux/wheels/8f/dd/8d/0ee9e433fb2119945b9ba59752a565848e981850d1e9f753e0\n",
            "Successfully built optax\n",
            "Installing collected packages: chex, optax\n",
            "Successfully installed chex-0.1.4 optax-0.1.3\n",
            "Looking in indexes: https://pypi.org/simple, https://us-python.pkg.dev/colab-wheels/public/simple/\n",
            "Collecting git+https://github.com/deepmind/rlax.git\n",
            "  Cloning https://github.com/deepmind/rlax.git to /tmp/pip-req-build-k7z_2f1o\n",
            "  Running command git clone -q https://github.com/deepmind/rlax.git /tmp/pip-req-build-k7z_2f1o\n",
            "Requirement already satisfied: absl-py>=0.9.0 in /usr/local/lib/python3.7/dist-packages (from rlax==0.1.4) (1.2.0)\n",
            "Requirement already satisfied: chex>=0.0.8 in /usr/local/lib/python3.7/dist-packages (from rlax==0.1.4) (0.1.4)\n",
            "Collecting distrax>=0.0.2\n",
            "  Downloading distrax-0.1.2-py3-none-any.whl (272 kB)\n",
            "\u001b[K     |████████████████████████████████| 272 kB 5.1 MB/s \n",
            "\u001b[?25hCollecting dm_env\n",
            "  Downloading dm_env-1.5-py3-none-any.whl (26 kB)\n",
            "Requirement already satisfied: jax>=0.1.55 in /usr/local/lib/python3.7/dist-packages (from rlax==0.1.4) (0.3.14)\n",
            "Requirement already satisfied: jaxlib>=0.1.37 in /usr/local/lib/python3.7/dist-packages (from rlax==0.1.4) (0.3.14+cuda11.cudnn805)\n",
            "Requirement already satisfied: numpy<1.23,>=1.18.0 in /usr/local/lib/python3.7/dist-packages (from rlax==0.1.4) (1.21.6)\n",
            "Requirement already satisfied: dm-tree>=0.1.5 in /usr/local/lib/python3.7/dist-packages (from chex>=0.0.8->rlax==0.1.4) (0.1.7)\n",
            "Requirement already satisfied: toolz>=0.9.0 in /usr/local/lib/python3.7/dist-packages (from chex>=0.0.8->rlax==0.1.4) (0.12.0)\n",
            "Requirement already satisfied: tensorflow-probability>=0.15.0 in /usr/local/lib/python3.7/dist-packages (from distrax>=0.0.2->rlax==0.1.4) (0.16.0)\n",
            "Requirement already satisfied: typing-extensions in /usr/local/lib/python3.7/dist-packages (from jax>=0.1.55->rlax==0.1.4) (4.1.1)\n",
            "Requirement already satisfied: etils[epath] in /usr/local/lib/python3.7/dist-packages (from jax>=0.1.55->rlax==0.1.4) (0.7.1)\n",
            "Requirement already satisfied: opt-einsum in /usr/local/lib/python3.7/dist-packages (from jax>=0.1.55->rlax==0.1.4) (3.3.0)\n",
            "Requirement already satisfied: scipy>=1.5 in /usr/local/lib/python3.7/dist-packages (from jax>=0.1.55->rlax==0.1.4) (1.7.3)\n",
            "Requirement already satisfied: flatbuffers<3.0,>=1.12 in /usr/local/lib/python3.7/dist-packages (from jaxlib>=0.1.37->rlax==0.1.4) (2.0.7)\n",
            "Requirement already satisfied: decorator in /usr/local/lib/python3.7/dist-packages (from tensorflow-probability>=0.15.0->distrax>=0.0.2->rlax==0.1.4) (4.4.2)\n",
            "Requirement already satisfied: six>=1.10.0 in /usr/local/lib/python3.7/dist-packages (from tensorflow-probability>=0.15.0->distrax>=0.0.2->rlax==0.1.4) (1.15.0)\n",
            "Requirement already satisfied: gast>=0.3.2 in /usr/local/lib/python3.7/dist-packages (from tensorflow-probability>=0.15.0->distrax>=0.0.2->rlax==0.1.4) (0.5.3)\n",
            "Requirement already satisfied: cloudpickle>=1.3 in /usr/local/lib/python3.7/dist-packages (from tensorflow-probability>=0.15.0->distrax>=0.0.2->rlax==0.1.4) (1.5.0)\n",
            "Requirement already satisfied: zipp in /usr/local/lib/python3.7/dist-packages (from etils[epath]->jax>=0.1.55->rlax==0.1.4) (3.8.1)\n",
            "Requirement already satisfied: importlib_resources in /usr/local/lib/python3.7/dist-packages (from etils[epath]->jax>=0.1.55->rlax==0.1.4) (5.9.0)\n",
            "Building wheels for collected packages: rlax\n",
            "  Building wheel for rlax (setup.py) ... \u001b[?25l\u001b[?25hdone\n",
            "  Created wheel for rlax: filename=rlax-0.1.4-py3-none-any.whl size=128705 sha256=623ad50e5b1d253da3586a1faba61e7f2ee4071c3670a13ebadcc0a279d06dce\n",
            "  Stored in directory: /tmp/pip-ephem-wheel-cache-pkw4ggqp/wheels/05/49/4c/186319592928d46f67f2e2eeac06665b943ff1fd57492c7e95\n",
            "Successfully built rlax\n",
            "Installing collected packages: dm-env, distrax, rlax\n",
            "Successfully installed distrax-0.1.2 dm-env-1.5 rlax-0.1.4\n"
          ]
        }
      ]
    },
    {
      "cell_type": "code",
      "execution_count": null,
      "metadata": {
        "id": "iC9d7uo8dveF"
      },
      "outputs": [],
      "source": [
        "from typing import Optional\n",
        "import jax\n",
        "import jax.numpy as jnp\n",
        "import numpy as np\n",
        "import haiku as hk\n",
        "import optax\n",
        "import rlax\n",
        "import gym\n",
        "from gym import spaces\n",
        "from gym.utils.renderer import Renderer\n",
        "from gym.envs.registration import register\n",
        "from functools import partial\n"
      ]
    },
    {
      "cell_type": "markdown",
      "source": [
        "# Environment gridworld"
      ],
      "metadata": {
        "id": "hIvO9Q6GeIY8"
      }
    },
    {
      "cell_type": "code",
      "source": [
        "class gridworld(gym.Env):\n",
        "  metadata = {'render_modes':['human','rgb_array','single_rgb_array'],'render_fps':4}\n",
        "  def __init__(\n",
        "      self, \n",
        "      render_mode: Optional[str] = None,\n",
        "      size: int = 5\n",
        "    ):\n",
        "    assert render_mode is None or render_mode in self.metadata['render_modes']\n",
        "    self.render_mode = rendermdoe\n",
        "    self.size = size\n",
        "    self.window_size = 512\n",
        "    self.observation_space = spaces.dict(\n",
        "        {\n",
        "            'agent': spaces.Box(0, size-1, shape=(2,), dtype=int),\n",
        "            'target': spaces.Box(0, size-1, shape=(2,), dtype=int)\n",
        "        }\n",
        "    )\n",
        "    self.action_space = spaces.Discrete(4)\n",
        "    self._action_to_direction = {\n",
        "        0: np.array([1,0]),\n",
        "        1: np.array([0,1]),\n",
        "        2: np.array([-1,0]),\n",
        "        3: np.array([0,-1]),\n",
        "    }\n",
        "    if self.render_mode == 'human':\n",
        "      import pygame\n",
        "      pygame.init()\n",
        "      pygame.display.init()\n",
        "      self.window = pygame.display.set_mode((self.window_size, self.window_size))\n",
        "      self.clock = pygame.time.Clock()\n",
        "    self.renderer = Renderer(self.render_mode, self._render_frame)\n",
        "  def _get_obs(self):\n",
        "    return {'agent': self._agent_location, 'target': self._target_location}\n",
        "  def _get_info(self):\n",
        "    return {'distance': np.linalg.norm(self._agent_location - self._target_location,ord=1)}\n",
        "  def reset(self, seed=None, option=None):\n",
        "    super().reset(seed=seed)\n",
        "    self._agent_location = self.np_random.intigers(0, self.size, size=2)\n",
        "    self._target_location = self._agent_location\n",
        "    while np.array_equal(self._target_location, self._agent_location):\n",
        "      self._target_location = self.np_rnadom.intigets(0, self.size, size=2)\n",
        "    self.renderer.reset()\n",
        "    self.renderer.render_step()\n",
        "\n",
        "    observation = self._get_obs()\n",
        "    info = self._get_info()\n",
        "    return (observation,info)\n",
        "  def step(self, action):\n",
        "    direction = self._action_to_direction[action]\n",
        "    self._agent_location = np.clip(\n",
        "        self._agent_location + direction, 0, self.size -1\n",
        "    )\n",
        "    done = np.array_equal(self._agent_location, self._target_location)\n",
        "    reward = 1 if done else 0\n",
        "    observation = self._get_obs()\n",
        "    info = self._get_info()\n",
        "    self.renderer.render_step()\n",
        "    return observation, reward, done, info\n",
        "  def render(self):\n",
        "    self.renderer.get_renders()\n",
        "  def _render_frame(self, mode: str):\n",
        "    assert mode is not None\n",
        "    import pygame\n",
        "    canvas = pygame.Surface((self.window_size, self.window_size))\n",
        "    canvas.fill((255, 255, 255))\n",
        "    pix_square_size = (\n",
        "        self.window_size / self.size\n",
        "    )\n",
        "    pygame.draw.rect(\n",
        "      canvas,\n",
        "      (255,0,0),\n",
        "      pygame.Rect(\n",
        "        pix_square_size * self._target_location,\n",
        "        (pix_square_size, pix_square_size),\n",
        "      ),\n",
        "    )\n",
        "    pygame.draw.circ(\n",
        "      canvas,\n",
        "      (0,0,255),\n",
        "      (self._agent_location + 0.5) * pix_square_size,\n",
        "      pix_square_size / 3,\n",
        "    )\n",
        "    # Finally, add some gridlines\n",
        "    for x in range(self.size + 1):\n",
        "        pygame.draw.line(\n",
        "            canvas,\n",
        "            0,\n",
        "            (0, pix_square_size * x),\n",
        "            (self.window_size, pix_square_size * x),\n",
        "            width=3,\n",
        "        )\n",
        "        pygame.draw.line(\n",
        "            canvas,\n",
        "            0,\n",
        "            (pix_square_size * x, 0),\n",
        "            (pix_square_size * x, self.window_size),\n",
        "            width=3,\n",
        "        )\n",
        "    if mode == \"human\":\n",
        "        assert self.window is not None\n",
        "        # The following line copies our drawings from `canvas` to the visible window\n",
        "        self.window.blit(canvas, canvas.get_rect())\n",
        "        pygame.event.pump()\n",
        "        pygame.display.update()\n",
        "\n",
        "        # We need to ensure that human-rendering occurs at the predefined framerate.\n",
        "        # The following line will automatically add a delay to keep the framerate stable.\n",
        "        self.clock.tick(self.metadata[\"render_fps\"])\n",
        "    else:  # rgb_array or single_rgb_array\n",
        "        return np.transpose(\n",
        "            np.array(pygame.surfarray.pixels3d(canvas)), axes=(1, 0, 2)\n",
        "        )\n",
        "  def close(self):\n",
        "    if self.window is not None:\n",
        "      import pygame \n",
        "      \n",
        "      pygame.display.quit()\n",
        "      pygame.quit()"
      ],
      "metadata": {
        "id": "A2MsZH3Ld3o8"
      },
      "execution_count": null,
      "outputs": []
    },
    {
      "cell_type": "code",
      "source": [
        "jnp.array([range(5)]).min()"
      ],
      "metadata": {
        "colab": {
          "base_uri": "https://localhost:8080/"
        },
        "id": "D2ixFkhLrgbI",
        "outputId": "278117f2-1363-47b1-91e8-42dfc8d8ddef"
      },
      "execution_count": null,
      "outputs": [
        {
          "output_type": "execute_result",
          "data": {
            "text/plain": [
              "DeviceArray(0, dtype=int32)"
            ]
          },
          "metadata": {},
          "execution_count": 24
        }
      ]
    },
    {
      "cell_type": "code",
      "source": [
        "class JaxGridWorld:\n",
        "  metadata = {}\n",
        "  def __init__(self, seed=0, size=4):\n",
        "    self.key = jax.random.PRNGKey(seed)\n",
        "    self.size = size\n",
        "    self.space = jnp.array([range(self.size)])\n",
        "    self.action_space = jnp.array([range(4)])\n",
        "    self._action_to_direction = {\n",
        "        0: np.array([1,0]),\n",
        "        1: np.array([0,1]),\n",
        "        2: np.array([-1,0]),\n",
        "        3: np.array([0,-1]),\n",
        "    }\n",
        "    self._target_location = jax.random.randint(\n",
        "        self.key,\n",
        "        (2,),\n",
        "        self.space.min(),\n",
        "        self.space.max()\n",
        "      )\n",
        "    self._agent_location = self._target_location\n",
        "    while self._agent_location.all() == self._target_location.all():\n",
        "      self.key = jax.random.split(self.key)[0]\n",
        "      self._agent_location = jax.random.randint(\n",
        "        self.key,\n",
        "        (2,),\n",
        "        self.space.min(),\n",
        "        self.space.max()\n",
        "      )\n",
        "    self.state = {\n",
        "        'agent': self._agent_location,\n",
        "        'target': self._target_location,\n",
        "    }\n",
        "    self.env_state = {\n",
        "        'state': self.state,\n",
        "        'key': self.key\n",
        "    }\n",
        "      \n",
        "  def _get_obs(self, env_state):\n",
        "    return env_state['state']\n",
        "  def _get_info(self, env_state):\n",
        "    return env_state\n",
        "  def _maybe_reset(self):\n",
        "    pass\n",
        "  def _reset(self):\n",
        "    pass\n",
        "  @partial(jax.jit, static_argnums=(0,))\n",
        "  def step(self):\n",
        "    pass\n",
        "  @partial(jax.jit, static_argnums=(0,))\n",
        "  def reset(self):\n",
        "    pass\n"
      ],
      "metadata": {
        "id": "32PK46pqlJqi"
      },
      "execution_count": null,
      "outputs": []
    },
    {
      "cell_type": "code",
      "source": [
        "JaxGridWorld(8).env_state"
      ],
      "metadata": {
        "id": "zgy3BxuHL43C",
        "colab": {
          "base_uri": "https://localhost:8080/"
        },
        "outputId": "7d00180e-b7ed-4a4c-e20a-6d9bce8866d7"
      },
      "execution_count": null,
      "outputs": [
        {
          "output_type": "execute_result",
          "data": {
            "text/plain": [
              "{'state': {'agent': DeviceArray([2, 1], dtype=int32),\n",
              "  'target': DeviceArray([0, 1], dtype=int32)},\n",
              " 'key': DeviceArray([2375251882,  476112094], dtype=uint32)}"
            ]
          },
          "metadata": {},
          "execution_count": 60
        }
      ]
    },
    {
      "cell_type": "code",
      "source": [],
      "metadata": {
        "id": "HYxT6MnSuUzD"
      },
      "execution_count": null,
      "outputs": []
    }
  ]
}